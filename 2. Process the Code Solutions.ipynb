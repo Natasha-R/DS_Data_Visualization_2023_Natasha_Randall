{
 "cells": [
  {
   "cell_type": "code",
   "execution_count": 1,
   "id": "f891bb2a-3bd5-494d-8560-3a551a00c556",
   "metadata": {
    "tags": []
   },
   "outputs": [],
   "source": [
    "import pandas as pd\n",
    "import numpy as np\n",
    "import os\n",
    "import glob"
   ]
  },
  {
   "cell_type": "markdown",
   "id": "d2bc7be6-bedb-427a-8db4-ba948679dfbb",
   "metadata": {},
   "source": [
    "## Processing the code solutions"
   ]
  },
  {
   "cell_type": "code",
   "execution_count": 2,
   "id": "b1cb4bd0-fa9f-42ab-b80b-ce2ce4a99616",
   "metadata": {
    "tags": []
   },
   "outputs": [],
   "source": [
    "def process_solutions(sources, solution_path=\"raw_code_solutions\"):\n",
    "    data = list()\n",
    "    attributes = [\"name\", \"source\", \"style\", \"version\"]\n",
    "    for source in sources:\n",
    "        # list all the solution names\n",
    "        names = [name for name in os.listdir(f\"{solution_path}\\\\{source}_solutions\")]\n",
    "\n",
    "        for full_name in names:\n",
    "            # find all java files, including those in sub-directories\n",
    "            path = f\"{solution_path}\\\\{source}_solutions\\\\{full_name}\\\\src\\\\main\\\\java\\\\thkoeln\\\\st\\\\st2praktikum\\\\exercise\\\\\"\n",
    "            file_list = [java_file for java_file in glob.glob(path + \"/**/*.java\", recursive=True)]\n",
    "\n",
    "            # extract out the attributes of the solutions\n",
    "            style, version = np.nan, np.nan\n",
    "            name_parts = full_name.split(\"_\")\n",
    "            name = name_parts[1]\n",
    "            if len(name_parts) > 2:\n",
    "                style = name_parts[2]\n",
    "            if len(name_parts) > 3:\n",
    "                version = name_parts[3]\n",
    "\n",
    "            # store java file as a document\n",
    "            for java_file in file_list:\n",
    "                with open(java_file, \"r\", encoding='utf-8') as open_java_file:\n",
    "                    code_text = open_java_file.read()\n",
    "                    document = {\"name\":name,\n",
    "                                \"file_name\":java_file[len(path):],\n",
    "                                \"source\":source,\n",
    "                                \"style\":style,\n",
    "                                \"version\":version,\n",
    "                                \"code\":code_text}\n",
    "                    data.append(document)\n",
    "    \n",
    "    # create a single dataframe\n",
    "    data = pd.DataFrame(data)\n",
    "\n",
    "    # remove students that did not attempt the assignment\n",
    "    missing_solutions = list(data[(data[\"source\"]==\"student\")\n",
    "                                  & (data[\"file_name\"]==\"Exercise0.java\")\n",
    "                                  & (data[\"code\"].str.len() < 250)][\"name\"])\n",
    "    data = data[~data[\"name\"].isin(missing_solutions)]\n",
    "    \n",
    "    # concatenate the code files\n",
    "    concatenated_data = pd.DataFrame(data.groupby(attributes, dropna=False)[\"code\"].apply(lambda row:\"\\n\".join(row))).reset_index()\n",
    "    \n",
    "    return data, concatenated_data"
   ]
  },
  {
   "cell_type": "markdown",
   "id": "c2d06aee-9aa4-4485-9e92-3b2a7c89bd58",
   "metadata": {},
   "source": [
    "## Storing the code as csv files"
   ]
  },
  {
   "cell_type": "markdown",
   "id": "82aad253-7dff-4b40-a1cb-5c6055971bd9",
   "metadata": {},
   "source": [
    "Creating a dataset containing the source of a solution, (e.g. student, specific AI), style of solution, version (relevant only for Bing chat version) and code:"
   ]
  },
  {
   "cell_type": "code",
   "execution_count": 3,
   "id": "d56cb768-dc27-4d5e-9965-140597197a65",
   "metadata": {
    "tags": []
   },
   "outputs": [
    {
     "data": {
      "text/html": [
       "<div>\n",
       "<style scoped>\n",
       "    .dataframe tbody tr th:only-of-type {\n",
       "        vertical-align: middle;\n",
       "    }\n",
       "\n",
       "    .dataframe tbody tr th {\n",
       "        vertical-align: top;\n",
       "    }\n",
       "\n",
       "    .dataframe thead th {\n",
       "        text-align: right;\n",
       "    }\n",
       "</style>\n",
       "<table border=\"1\" class=\"dataframe\">\n",
       "  <thead>\n",
       "    <tr style=\"text-align: right;\">\n",
       "      <th></th>\n",
       "      <th></th>\n",
       "      <th>counts</th>\n",
       "    </tr>\n",
       "    <tr>\n",
       "      <th>column</th>\n",
       "      <th>value</th>\n",
       "      <th></th>\n",
       "    </tr>\n",
       "  </thead>\n",
       "  <tbody>\n",
       "    <tr>\n",
       "      <th rowspan=\"5\" valign=\"top\">source</th>\n",
       "      <th>bard</th>\n",
       "      <td>17</td>\n",
       "    </tr>\n",
       "    <tr>\n",
       "      <th>gpt3.5</th>\n",
       "      <td>19</td>\n",
       "    </tr>\n",
       "    <tr>\n",
       "      <th>bing</th>\n",
       "      <td>28</td>\n",
       "    </tr>\n",
       "    <tr>\n",
       "      <th>gpt4</th>\n",
       "      <td>31</td>\n",
       "    </tr>\n",
       "    <tr>\n",
       "      <th>student</th>\n",
       "      <td>104</td>\n",
       "    </tr>\n",
       "    <tr>\n",
       "      <th rowspan=\"3\" valign=\"top\">style</th>\n",
       "      <th>cc</th>\n",
       "      <td>19</td>\n",
       "    </tr>\n",
       "    <tr>\n",
       "      <th>styled</th>\n",
       "      <td>27</td>\n",
       "    </tr>\n",
       "    <tr>\n",
       "      <th>plain</th>\n",
       "      <td>49</td>\n",
       "    </tr>\n",
       "    <tr>\n",
       "      <th rowspan=\"3\" valign=\"top\">version</th>\n",
       "      <th>balanced</th>\n",
       "      <td>7</td>\n",
       "    </tr>\n",
       "    <tr>\n",
       "      <th>precise</th>\n",
       "      <td>9</td>\n",
       "    </tr>\n",
       "    <tr>\n",
       "      <th>creative</th>\n",
       "      <td>12</td>\n",
       "    </tr>\n",
       "  </tbody>\n",
       "</table>\n",
       "</div>"
      ],
      "text/plain": [
       "                  counts\n",
       "column  value           \n",
       "source  bard          17\n",
       "        gpt3.5        19\n",
       "        bing          28\n",
       "        gpt4          31\n",
       "        student      104\n",
       "style   cc            19\n",
       "        styled        27\n",
       "        plain         49\n",
       "version balanced       7\n",
       "        precise        9\n",
       "        creative      12"
      ]
     },
     "execution_count": 3,
     "metadata": {},
     "output_type": "execute_result"
    }
   ],
   "source": [
    "files_code_data, all_code_data = process_solutions(sources=[\"gpt3.5\", \"bing\", \"bard\", \"gpt4\", \"student\"])\n",
    "pd.DataFrame(all_code_data[[\"source\", \"style\", \"version\"]].melt(var_name=\"column\", value_name=\"value\")\\\n",
    "             .value_counts()).rename(columns={0: 'counts'}).sort_values([\"column\", \"counts\"])"
   ]
  },
  {
   "cell_type": "code",
   "execution_count": 4,
   "id": "9cbedae0-1ae9-4928-a504-ad7f56573952",
   "metadata": {
    "tags": []
   },
   "outputs": [],
   "source": [
    "all_code_data.to_csv(\"processed_code_solutions/all_code_data.csv\", index=False)\n",
    "files_code_data.to_csv(\"processed_code_solutions/files_code_data.csv\", index=False)"
   ]
  }
 ],
 "metadata": {
  "kernelspec": {
   "display_name": "Python 3 (ipykernel)",
   "language": "python",
   "name": "python3"
  },
  "language_info": {
   "codemirror_mode": {
    "name": "ipython",
    "version": 3
   },
   "file_extension": ".py",
   "mimetype": "text/x-python",
   "name": "python",
   "nbconvert_exporter": "python",
   "pygments_lexer": "ipython3",
   "version": "3.9.12"
  }
 },
 "nbformat": 4,
 "nbformat_minor": 5
}
