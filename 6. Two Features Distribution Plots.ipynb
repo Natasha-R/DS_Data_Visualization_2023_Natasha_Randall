{
 "cells": [
  {
   "cell_type": "code",
   "execution_count": 1,
   "id": "47ef71cb-7c3f-494d-923b-5b8153f80a37",
   "metadata": {
    "tags": []
   },
   "outputs": [],
   "source": [
    "import pandas as pd\n",
    "import numpy as np\n",
    "import scipy as sp\n",
    "\n",
    "from tqdm import tqdm\n",
    "\n",
    "from sklearn.ensemble import RandomForestClassifier\n",
    "from sklearn.model_selection import train_test_split\n",
    "from sklearn.metrics import accuracy_score\n",
    "\n",
    "import seaborn as sns\n",
    "import matplotlib.pyplot as plt\n",
    "\n",
    "import bokeh\n",
    "from bokeh.plotting import figure, show, output_notebook\n",
    "from bokeh.models import ColumnDataSource, CustomJS, Div, Select, Label, LegendItem\n",
    "from bokeh.models.tools import TapTool\n",
    "from bokeh.transform import factor_cmap, factor_mark\n",
    "from bokeh.layouts import row, column"
   ]
  },
  {
   "cell_type": "code",
   "execution_count": 2,
   "id": "b071639e-7edd-432e-8c58-2d019f3fff4b",
   "metadata": {
    "tags": []
   },
   "outputs": [],
   "source": [
    "# import the data\n",
    "data = pd.read_csv(\"processed_code_solutions/features_data.csv\")\n",
    "# drop the non-continuous features\n",
    "data = data.drop([\"used_boolean\", \"used_List\", \"used_Integer\", \"used_Point\", \"used_ArrayList\", \"used_StringBuilder\"], axis=1)\n",
    "# format the source names\n",
    "data[\"source\"] = data[\"source\"].replace({\"bard\":\"Bard\", \"gpt3.5\":\"ChatGPT-3.5\", \"bing\":\"Bing\", \"gpt4\":\"ChatGPT-4\", \"student\":\"Human\"})\n",
    "# create binary AI vs human data for the classifier - 1 is human, 0 is ai\n",
    "data[\"binary_source\"] = data[\"source\"].apply(lambda row: 1 if row==\"Human\" else 0)"
   ]
  },
  {
   "cell_type": "code",
   "execution_count": 3,
   "id": "e50f9bd0-a0dc-4036-82cb-aa7d00603ff1",
   "metadata": {
    "tags": []
   },
   "outputs": [],
   "source": [
    "# rename the columns to understandable names\n",
    "data.columns = [\"name\", \"source\", \"style\", \"version\", \"code\", \"Number of characters\", \"Number of lines\", \n",
    "                \"Average line length\", \"Maximum line length\", \"Number of comments (scaled to length of code)\", \n",
    "                \"Number of if statements (scaled to length of code)\", \"Number of for loops (scaled to length of code)\", \n",
    "                \"Number of switch statements (scaled to length of code)\", \"Number of digits (scaled to length of code)\", \n",
    "                \"Number of exceptions thrown (scaled to length of code)\", \"Number of empty lines (scaled to length of code)\", \n",
    "                \"Number of print statements (scaled to length of code)\", \"Number of files\", \n",
    "                \"Number of method declarations (scaled to length of code)\", \"Number of field variables declared (scaled to length of code)\", \n",
    "                \"Number of local variables declared (scaled to length of code)\", \"Number of classes (scaled to length of code)\", \n",
    "                \"Number of variables referenced (scaled to length of code)\", \"Number of method invocations (scaled to length of code)\", \n",
    "                \"Number of imports (scaled to length of code)\", \"Average variable name length\", \"Maximum variable name length\", \n",
    "                \"Average comment length\", \"Maximum comment length\", \"binary_source\"]"
   ]
  },
  {
   "cell_type": "code",
   "execution_count": 4,
   "id": "25c78c1d-3d8a-452d-a44e-8f944c7484bf",
   "metadata": {
    "tags": []
   },
   "outputs": [],
   "source": [
    "# process the data to be suitable for the visualisation\n",
    "data[\"source\"] = pd.Categorical(data[\"source\"], [\"Bard\", \"ChatGPT-3.5\", \"Bing\", \"ChatGPT-4\", \"Human\"])\n",
    "data = data.sort_values(\"source\").reset_index(drop=True)\n",
    "data[\"name\"] = data[\"name\"].str.replace(\"student\", \"\")\n",
    "data[\"name\"] = data[\"source\"].astype(str) + \"_\" + data[\"name\"]\n",
    "data.loc[data[\"source\"]==\"Bing\", \"name\"] = data[data[\"source\"]==\"Bing\"][\"name\"] + \"_\" + data[data[\"source\"]==\"Bing\"][\"version\"]\n",
    "data[\"code\"] = data[\"code\"].str.replace(\"\\n\", \"<br>\")"
   ]
  },
  {
   "cell_type": "code",
   "execution_count": 5,
   "id": "28601e41-28a8-467c-bf9b-c0373ee2855f",
   "metadata": {
    "tags": []
   },
   "outputs": [
    {
     "data": {
      "text/plain": [
       "86.66666666666667"
      ]
     },
     "execution_count": 5,
     "metadata": {},
     "output_type": "execute_result"
    }
   ],
   "source": [
    "# sort the variables in the selection by how well they classify the data\n",
    "all_features = list(data.columns[5:-1])\n",
    "X_train_full, X_test_full, y_train_full, y_test_full = train_test_split(data[all_features].values, \n",
    "                                                                        data[\"binary_source\"], \n",
    "                                                                        test_size=0.3, \n",
    "                                                                        random_state=512)\n",
    "full_forest = RandomForestClassifier(random_state=0, \n",
    "                                     max_features=1, \n",
    "                                     n_estimators=160, \n",
    "                                     max_depth=10)\n",
    "full_forest.fit(X_train_full, y_train_full)\n",
    "all_features = list(pd.Series(full_forest.feature_importances_, index=all_features).sort_values(ascending=False).index)\n",
    "accuracy_score(y_test_full, full_forest.predict(X_test_full))*100"
   ]
  },
  {
   "cell_type": "code",
   "execution_count": 6,
   "id": "dfbe950e-1c33-4e7d-8be4-38166a319a3e",
   "metadata": {
    "tags": []
   },
   "outputs": [],
   "source": [
    "# additional data needed for the visualisation\n",
    "markers = [\"plus\", \"hex\", \"triangle\", \"square\", \"circle\"]\n",
    "category = [\"Bard\", \"ChatGPT-3.5\", \"Bing\", \"ChatGPT-4\", \"Human\"]\n",
    "colours = [\"#e5c949\", \"#e99675\", \"#95a3c3\", \"#a2c865\", \"#db96c0\"]\n",
    "db_colours = {0:\"#bae083\", 1:\"#a2457d\"}\n",
    "starting_x = \"Number of lines\"\n",
    "starting_y = \"Number of field variables declared (scaled to length of code)\""
   ]
  },
  {
   "cell_type": "code",
   "execution_count": null,
   "id": "5ae3fa2e-41ab-4225-8adf-97205b7c656a",
   "metadata": {
    "tags": []
   },
   "outputs": [],
   "source": [
    "# find the decision boundary meshes for every combination of pairs of variables\n",
    "all_meshes = []\n",
    "# find the acccuracy of the model on each pair of variables\n",
    "all_accuracy = dict()\n",
    "\n",
    "# find all permutations of pairs of variables - the order is relevant, as the mesh will be mirrored\n",
    "for var1 in tqdm(all_features):\n",
    "    for var2 in all_features:\n",
    "        \n",
    "        # use only the data for the given 2 variables to train a random forest classifier\n",
    "        X = data[[var1, var2]].values\n",
    "        y = data[\"binary_source\"].values\n",
    "        X_train, X_test, y_train, y_test = train_test_split(X, \n",
    "                                                            y, \n",
    "                                                            test_size=0.4, \n",
    "                                                            random_state=0)\n",
    "        forest = RandomForestClassifier(random_state=0, \n",
    "                                        max_features=\"sqrt\", \n",
    "                                        n_estimators=180, \n",
    "                                        max_depth=5)\n",
    "        forest.fit(X_train, y_train)\n",
    "\n",
    "        # find the boundary edges for the mesh \n",
    "        min_var1, max_var1 = X[:, 0].min(), X[:, 0].max()\n",
    "        min_var2, max_var2 = X[:, 1].min(), X[:, 1].max()\n",
    "\n",
    "        # define the grid for the mesh\n",
    "        mesh = np.meshgrid(np.linspace(min_var1, max_var1, 80), np.linspace(min_var2, max_var2, 85))\n",
    "\n",
    "        # defining the colours/predictions on the mesh\n",
    "        predictions = forest.predict(np.c_[mesh[0].ravel(), mesh[1].ravel()])\n",
    "        predictions = predictions.reshape(mesh[0].shape)    \n",
    "\n",
    "        # combining the mesh positions and colours/predictions\n",
    "        mesh = pd.DataFrame(np.c_[mesh[0].ravel(), \n",
    "                                  mesh[1].ravel(), \n",
    "                                  predictions.ravel()], \n",
    "                            columns=[f\"{var1}_{var2}_xx\", f\"{var1}_{var2}_yy\", f\"{var1}_{var2}_pred\"])\n",
    "        mesh[f\"{var1}_{var2}_colours\"] = mesh[f\"{var1}_{var2}_pred\"].map(db_colours)\n",
    "        \n",
    "        # saving the mesh to the overall list\n",
    "        all_meshes.append(mesh)\n",
    "        \n",
    "        # save the accuracy of the model\n",
    "        all_accuracy[f\"{var1}_{var2}\"] = \"{:.1f}\".format(accuracy_score(y_test, forest.predict(X_test))*100)\n",
    "        \n",
    "all_meshes = pd.concat(all_meshes, axis=1)"
   ]
  },
  {
   "cell_type": "code",
   "execution_count": null,
   "id": "6253d172-f329-4a1b-a172-453b4beb662f",
   "metadata": {
    "tags": []
   },
   "outputs": [],
   "source": [
    "all_meshes.to_csv(\"processed_code_solutions/all_meshes.csv\", index=False)\n",
    "np.save(\"processed_code_solutions/all_accuracy.npy\", all_accuracy)"
   ]
  },
  {
   "cell_type": "code",
   "execution_count": 7,
   "id": "d68c5e72-4a36-4da3-9059-c71337c9e8b6",
   "metadata": {
    "tags": []
   },
   "outputs": [],
   "source": [
    "all_meshes = pd.read_csv(\"processed_code_solutions/all_meshes.csv\")\n",
    "all_accuracy = np.load(\"processed_code_solutions/all_accuracy.npy\", allow_pickle=\"TRUE\").item()"
   ]
  },
  {
   "cell_type": "code",
   "execution_count": 8,
   "id": "085f90a9-98de-41bd-ac91-d67455bbfda9",
   "metadata": {
    "tags": []
   },
   "outputs": [],
   "source": [
    "# store the data in column data source format for Bokeh\n",
    "cds_data = ColumnDataSource(data)\n",
    "cds_mesh = ColumnDataSource(all_meshes)\n",
    "\n",
    "# create the initial figure\n",
    "plot = figure(plot_width=600, \n",
    "              plot_height=600, \n",
    "              tools=[\"tap\", \"save\", \"reset\"],\n",
    "              x_axis_label=starting_x, \n",
    "              y_axis_label=starting_y)\n",
    "click_desc = Div(text=\"\"\"<div style='width: 600px; margin: 0 auto;'><p style='font-size: 15px; font-weight: bold; text-align: center;'>\n",
    "                         Click on a point to see its associated code solution!</p></div>\"\"\")\n",
    "db_desc = Div(text=\"<div style='width: 610px; font-size: 14px;'>The features are ordered by how well they classify the data into AI versus human written code.\\\n",
    "                                                  The accuracy of a classifier trained on the currently displayed features is shown under the legend.</div>\")\n",
    "\n",
    "# plot the decision boundaries\n",
    "mesh = plot.square(source=cds_mesh, \n",
    "                   x=f\"{starting_x}_{starting_y}_xx\", \n",
    "                   y=f\"{starting_x}_{starting_y}_yy\", \n",
    "                   fill_color=f\"{starting_x}_{starting_y}_colours\", \n",
    "                   size=6, \n",
    "                   line_alpha=0, \n",
    "                   fill_alpha=0.2, \n",
    "                   name=\"Mesh\")\n",
    "mesh.nonselection_glyph = None\n",
    "\n",
    "# plot the data points\n",
    "scatterpoints = plot.scatter(source=cds_data, \n",
    "                             x=starting_x, \n",
    "                             y=starting_y, \n",
    "                             size=12, \n",
    "                             line_width=0.5, \n",
    "                             line_color=\"#686768\", \n",
    "                             legend_field=\"source\", \n",
    "                             name=\"Points\",\n",
    "                             marker=factor_mark(field_name=\"source\", \n",
    "                                                markers=markers, \n",
    "                                                factors=category),\n",
    "                             color=factor_cmap(field_name=\"source\", \n",
    "                                               palette=colours, \n",
    "                                               factors=category))\n",
    "\n",
    "# create a label for the accuracy of the classifier being shown\n",
    "accuracy_label = Label(x=390, \n",
    "                       y=340, \n",
    "                       x_units=\"screen\", \n",
    "                       y_units=\"screen\", \n",
    "                       text_font_size=\"14px\", \n",
    "                       text_font_style=\"bold\", \n",
    "                       text_baseline=\"bottom\",\n",
    "                       text=all_accuracy[f\"{starting_x}_{starting_y}\"] + \"% accuracy\", \n",
    "                       render_mode=\"canvas\")\n",
    "plot.axis.axis_label_text_font_style = 'normal'\n",
    "\n",
    "db_label_1 = Label(x=385, \n",
    "                   y=385, \n",
    "                   x_units=\"screen\", \n",
    "                   y_units=\"screen\",\n",
    "                   text=\"AI Predictions\", \n",
    "                   render_mode=\"canvas\",\n",
    "                   border_line_alpha=0.2,\n",
    "                   background_fill_alpha=0.4,\n",
    "                   text_font_size=\"14px\",\n",
    "                   background_fill_color=db_colours[0])\n",
    "\n",
    "db_label_2 = Label(x=385, \n",
    "                   y=365, \n",
    "                   x_units=\"screen\", \n",
    "                   y_units=\"screen\",\n",
    "                   text=\"Human Predictions\", \n",
    "                   render_mode=\"canvas\",\n",
    "                   border_line_alpha=0.2,\n",
    "                   background_fill_alpha=0.2,\n",
    "                   text_font_size=\"14px\",\n",
    "                   background_fill_color=db_colours[1])\n",
    "\n",
    "# click to show the code text\n",
    "code_text = Div()\n",
    "callback_click = CustomJS(args=dict(source=cds_data, \n",
    "                                    div=code_text), \n",
    "    code=\"\"\"\n",
    "    var index = source.selected.indices\n",
    "    if (index.length == 0) {\n",
    "        div.text = \"\";\n",
    "        div.style = {};\n",
    "    }\n",
    "    else {\n",
    "        div.text = source.data['name'][index[0]] + '<pre>' + source.data['code'][index[0]] + '</pre>';\n",
    "        div.style = {'border': '1px solid black', 'padding': '10px'};\n",
    "    }\n",
    "    \"\"\")\n",
    "cds_data.selected.js_on_change('indices', callback_click)\n",
    "\n",
    "# select the x and y variables\n",
    "select_x = Select(title=\"Choose the feature for the x-axis:\", \n",
    "                  value=starting_x, \n",
    "                  options=all_features)\n",
    "select_y = Select(title=\"Choose the feature for the y-axis:\", \n",
    "                  value=starting_y, \n",
    "                  options=all_features)\n",
    "callback_select = CustomJS(args=dict(scatterpoints_renderer=scatterpoints, \n",
    "                                     mesh_renderer=mesh,\n",
    "                                     x_select=select_x, \n",
    "                                     y_select=select_y, \n",
    "                                     accuracy_label=accuracy_label, \n",
    "                                     accuracy_dict=all_accuracy,\n",
    "                                     xaxis=plot.xaxis[0], \n",
    "                                     yaxis=plot.yaxis[0]),             \n",
    "    code=\"\"\"\n",
    "    scatterpoints_renderer.glyph.x = {field: x_select.value};\n",
    "    scatterpoints_renderer.glyph.y = {field: y_select.value};\n",
    "    \n",
    "    xaxis.axis_label = x_select.value;\n",
    "    yaxis.axis_label = y_select.value;\n",
    "    \n",
    "    var current_vars = x_select.value + \"_\" + y_select.value;\n",
    "    var current_xx = current_vars + \"_xx\";\n",
    "    var current_yy = current_vars + \"_yy\";\n",
    "    var current_colour = current_vars + \"_colours\";\n",
    "    mesh_renderer.glyph.x = {field: current_xx};\n",
    "    mesh_renderer.glyph.y = {field: current_yy};\n",
    "    mesh_renderer.glyph.fill_color = {field: current_colour};\n",
    "    \n",
    "    accuracy_label.text = accuracy_dict[current_vars] + \"% accuracy\";\n",
    "    \n",
    "\"\"\")\n",
    "\n",
    "select_x.js_on_change('value', callback_select)\n",
    "select_y.js_on_change('value', callback_select)\n",
    "\n",
    "# layout of the whole plot\n",
    "layout = row(column(select_x, select_y, db_desc, plot, click_desc), code_text)\n",
    "for label in [accuracy_label, db_label_1, db_label_2]:\n",
    "    plot.add_layout(label)\n",
    "show(layout)"
   ]
  }
 ],
 "metadata": {
  "kernelspec": {
   "display_name": "Python 3 (ipykernel)",
   "language": "python",
   "name": "python3"
  },
  "language_info": {
   "codemirror_mode": {
    "name": "ipython",
    "version": 3
   },
   "file_extension": ".py",
   "mimetype": "text/x-python",
   "name": "python",
   "nbconvert_exporter": "python",
   "pygments_lexer": "ipython3",
   "version": "3.9.12"
  }
 },
 "nbformat": 4,
 "nbformat_minor": 5
}
