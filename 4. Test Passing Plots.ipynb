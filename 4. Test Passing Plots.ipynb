{
 "cells": [
  {
   "cell_type": "code",
   "execution_count": 1,
   "id": "c05353c5-4a34-435f-9b19-9736711382e5",
   "metadata": {
    "tags": []
   },
   "outputs": [],
   "source": [
    "import pandas as pd \n",
    "import numpy as np\n",
    "import seaborn as sns\n",
    "import matplotlib.pyplot as plt\n",
    "from matplotlib.ticker import EngFormatter, StrMethodFormatter"
   ]
  },
  {
   "cell_type": "code",
   "execution_count": 2,
   "id": "094bbdf7-912f-49cb-ae80-d94218ca5c95",
   "metadata": {
    "tags": []
   },
   "outputs": [],
   "source": [
    "# import and format the data\n",
    "tests = pd.read_csv(\"processed_code_solutions/tests_data.csv\")\n",
    "tests[\"num_tests_passed\"] = tests[[\"test_1\", \"test_2\", \"hidden_test_1\", \"hidden_test_2\"]].sum(axis=1)\n",
    "tests[\"%_tests_passed\"] = tests[\"num_tests_passed\"]/4*100\n",
    "tests[\"source\"] = tests[\"source\"].replace({\"bard\":\"Bard\", \"gpt3.5\":\"ChatGPT-3.5\", \"bing\":\"Bing\", \"gpt4\":\"ChatGPT-4\", \"student\":\"Human\"})"
   ]
  },
  {
   "cell_type": "code",
   "execution_count": 5,
   "id": "a4338ae1-5bde-4416-9b8f-a873309c1795",
   "metadata": {
    "tags": []
   },
   "outputs": [],
   "source": [
    "# additional information for the plots\n",
    "colours = {\"Human\": (0.9058823529411765, 0.5411764705882353, 0.7647058823529411),\n",
    "           \"Bard\": (1.0, 0.8509803921568627, 0.1843137254901961),\n",
    "           \"Bing\": (0.5529411764705883, 0.6274509803921569, 0.796078431372549),\n",
    "           \"ChatGPT-3.5\": (0.9882352941176471, 0.5529411764705883, 0.3843137254901961),\n",
    "           \"ChatGPT-4\": (0.6509803921568628, 0.8470588235294118, 0.32941176470588235)}\n",
    "plt.rcParams.update({\"font.size\": 14})\n",
    "plt.rcParams.update({\"legend.handlelength\": 2,\n",
    "                     \"legend.handleheight\": 1.5})"
   ]
  },
  {
   "cell_type": "code",
   "execution_count": 6,
   "id": "849f1064-a9dc-4778-871e-d5c00c6dd385",
   "metadata": {
    "tags": []
   },
   "outputs": [
    {
     "data": {
      "image/png": "[encoded data removed]",
      "text/plain": [
       "<Figure size 720x432 with 1 Axes>"
      ]
     },
     "metadata": {
      "needs_background": "light"
     },
     "output_type": "display_data"
    }
   ],
   "source": [
    "# create the plot\n",
    "fig, ax = plt.subplots(figsize=(10, 6))\n",
    "\n",
    "# plot the barchart\n",
    "sns.barplot(data=tests, \n",
    "            x=\"source\", \n",
    "            y=\"num_tests_passed\", \n",
    "            errorbar=\"se\", \n",
    "            capsize=0.1, \n",
    "            errcolor=\"dimgray\", \n",
    "            errwidth=2.5,\n",
    "            zorder=2, \n",
    "            linewidth=2.5, \n",
    "            edgecolor=\"dimgray\", \n",
    "            palette=colours, \n",
    "            order=[\"Bard\", \"ChatGPT-3.5\", \"Bing\", \"ChatGPT-4\", \"Human\"], \n",
    "            ax=ax)\n",
    "\n",
    "# set the labels\n",
    "ax.set_ylabel(\"\")\n",
    "ax.set_xlabel(\"\")\n",
    "ax.set_yticks([0, 1, 2, 3, 4])\n",
    "ax.set_title(\"Mean number of tests correctly passed (out of 4)\", fontsize=15, pad=10)\n",
    "ax.grid(zorder=-1, alpha=0.5, axis=\"y\");\n",
    "\n",
    "# save the plot\n",
    "plt.savefig(\"plots/tests_bar.png\", \n",
    "            dpi=300,\n",
    "            bbox_inches=\"tight\",\n",
    "            facecolor=\"white\")\n",
    "\n",
    "# # modifying the plot for the report\n",
    "# ax.set_ylabel(\"Number of tests passed\", labelpad=10)\n",
    "# ax.set_title(\"\")\n",
    "\n",
    "# # saving the plot for the report\n",
    "# plt.savefig(\"report_plots/tests_bar.png\", \n",
    "#             dpi=300,\n",
    "#             bbox_inches=\"tight\",\n",
    "#             facecolor=\"white\")"
   ]
  },
  {
   "cell_type": "code",
   "execution_count": 7,
   "id": "8788551d-7a25-43f6-8b5f-60b98387ffae",
   "metadata": {
    "tags": []
   },
   "outputs": [
    {
     "data": {
      "image/png": "[encoded data removed]",
      "text/plain": [
       "<Figure size 720x432 with 1 Axes>"
      ]
     },
     "metadata": {
      "needs_background": "light"
     },
     "output_type": "display_data"
    }
   ],
   "source": [
    "# create the plot\n",
    "fig, ax = plt.subplots(figsize=(10, 6))\n",
    "\n",
    "# create the boxplot\n",
    "sns.boxplot(data=tests, \n",
    "            x=\"num_tests_passed\", \n",
    "            y=\"source\", \n",
    "            capprops={\"color\":\"dimgray\"}, \n",
    "            boxprops={'edgecolor':'dimgray'}, \n",
    "            medianprops={'color':'dimgray'}, \n",
    "            whiskerprops={'color':'dimgray'},\n",
    "            linewidth=2.5, \n",
    "            palette=colours, \n",
    "            flierprops={'marker': 'x', 'markersize': 10},\n",
    "            order=[\"Bard\", \"ChatGPT-3.5\", \"Bing\", \"ChatGPT-4\", \"Human\"])\n",
    "\n",
    "# set the labels\n",
    "ax.set_xticks([0, 1, 2, 3, 4])\n",
    "ax.set_xlabel(\"\")\n",
    "ax.set_ylabel(\"\")\n",
    "ax.set_title(\"Distribution of mean number of tests correctly passed (out of 4)\", fontsize=15, pad=10)\n",
    "ax.set_axisbelow(True)\n",
    "ax.grid(alpha=0.5, axis=\"x\");\n",
    "\n",
    "# save the plot\n",
    "plt.savefig(\"plots/tests_boxplot.png\", \n",
    "            dpi=300,\n",
    "            bbox_inches=\"tight\",\n",
    "            facecolor=\"white\")"
   ]
  },
  {
   "cell_type": "code",
   "execution_count": 8,
   "id": "c3fe6ec5-7485-4df7-8039-15732d49033b",
   "metadata": {
    "tags": []
   },
   "outputs": [],
   "source": [
    "# creating a dataframe containing the % of solutions in each combination of source and number of tests passed\n",
    "grouped_tests = pd.crosstab(tests[\"source\"], tests[\"num_tests_passed\"], normalize=\"index\").reset_index()\n",
    "grouped_tests = grouped_tests.set_index(\"source\").stack().reset_index().sort_values([\"source\", \"num_tests_passed\"])\n",
    "grouped_tests.columns = [\"source\", \"num_tests_passed\", \"percent\"]\n",
    "grouped_tests[\"percent\"] = np.round(grouped_tests[\"percent\"]*100, 5)\n",
    "\n",
    "# sorting the order of the rows for the plot\n",
    "grouped_tests[\"source\"] = pd.Categorical(grouped_tests[\"source\"], [\"Bard\", \"ChatGPT-3.5\", \"Bing\", \"ChatGPT-4\", \"Human\"])\n",
    "grouped_tests[\"num_tests_passed\"] = pd.Categorical(grouped_tests['num_tests_passed'], [4,3,2,1,0])\n",
    "grouped_tests = grouped_tests.sort_values([\"source\", \"num_tests_passed\"]).reset_index(drop=True)\n",
    "grouped_tests = grouped_tests[grouped_tests[\"percent\"] != 0].reset_index(drop=True)\n",
    "\n",
    "# store the sample sizes of each source as a proportion of the whole dataset\n",
    "sample_sizes_ratio = tests.groupby(\"source\").count()[\"name\"] / tests.groupby(\"source\").count()[\"name\"].sum()\n",
    "grouped_tests[\"sample_size\"] = grouped_tests[\"source\"].apply(lambda source: sample_sizes_ratio[source])\n",
    "\n",
    "# creating dictionaries matching sources to values and sample sizes to use in the plot\n",
    "source_to_sample_size = grouped_tests[[\"source\", \"sample_size\"]].drop_duplicates().set_index(\"source\").squeeze(axis=1).to_dict()\n",
    "percent_to_source = grouped_tests[[\"percent\", \"source\"]].replace(0, np.nan).dropna().set_index(\"percent\").squeeze(axis=1).to_dict()\n",
    "\n",
    "# calculating the positions of each bar in the plot, given the sample size (width)\n",
    "positions = [value * 5 for value in np.cumsum([0] + list(source_to_sample_size.values()))]\n",
    "tick_positions = [(positions[i] + positions[i+1]) / 2 for i in range(0, 5)]\n",
    "source_to_position = pd.DataFrame(positions[:-1], [\"Bard\", \"ChatGPT-3.5\", \"Bing\", \"ChatGPT-4\", \"Human\"]).squeeze(axis=1).to_dict()"
   ]
  },
  {
   "cell_type": "code",
   "execution_count": 9,
   "id": "acf914f6-69fb-43f1-acdb-c00e22610775",
   "metadata": {
    "tags": []
   },
   "outputs": [
    {
     "data": {
      "text/html": [
       "<div>\n",
       "<style scoped>\n",
       "    .dataframe tbody tr th:only-of-type {\n",
       "        vertical-align: middle;\n",
       "    }\n",
       "\n",
       "    .dataframe tbody tr th {\n",
       "        vertical-align: top;\n",
       "    }\n",
       "\n",
       "    .dataframe thead th {\n",
       "        text-align: right;\n",
       "    }\n",
       "</style>\n",
       "<table border=\"1\" class=\"dataframe\">\n",
       "  <thead>\n",
       "    <tr style=\"text-align: right;\">\n",
       "      <th></th>\n",
       "      <th>source</th>\n",
       "      <th>num_tests_passed</th>\n",
       "      <th>percent</th>\n",
       "      <th>sample_size</th>\n",
       "    </tr>\n",
       "  </thead>\n",
       "  <tbody>\n",
       "    <tr>\n",
       "      <th>0</th>\n",
       "      <td>Bard</td>\n",
       "      <td>1</td>\n",
       "      <td>5.88235</td>\n",
       "      <td>0.085427</td>\n",
       "    </tr>\n",
       "    <tr>\n",
       "      <th>1</th>\n",
       "      <td>Bard</td>\n",
       "      <td>0</td>\n",
       "      <td>94.11765</td>\n",
       "      <td>0.085427</td>\n",
       "    </tr>\n",
       "    <tr>\n",
       "      <th>2</th>\n",
       "      <td>ChatGPT-3.5</td>\n",
       "      <td>1</td>\n",
       "      <td>26.31579</td>\n",
       "      <td>0.095477</td>\n",
       "    </tr>\n",
       "    <tr>\n",
       "      <th>3</th>\n",
       "      <td>ChatGPT-3.5</td>\n",
       "      <td>0</td>\n",
       "      <td>73.68421</td>\n",
       "      <td>0.095477</td>\n",
       "    </tr>\n",
       "    <tr>\n",
       "      <th>4</th>\n",
       "      <td>Bing</td>\n",
       "      <td>2</td>\n",
       "      <td>32.14286</td>\n",
       "      <td>0.140704</td>\n",
       "    </tr>\n",
       "  </tbody>\n",
       "</table>\n",
       "</div>"
      ],
      "text/plain": [
       "        source num_tests_passed   percent sample_size\n",
       "0         Bard                1   5.88235    0.085427\n",
       "1         Bard                0  94.11765    0.085427\n",
       "2  ChatGPT-3.5                1  26.31579    0.095477\n",
       "3  ChatGPT-3.5                0  73.68421    0.095477\n",
       "4         Bing                2  32.14286    0.140704"
      ]
     },
     "execution_count": 9,
     "metadata": {},
     "output_type": "execute_result"
    }
   ],
   "source": [
    "grouped_tests.head()"
   ]
  },
  {
   "cell_type": "code",
   "execution_count": 10,
   "id": "ca7e7843-bae3-487c-afb1-d41d9ad948e5",
   "metadata": {
    "tags": []
   },
   "outputs": [
    {
     "data": {
      "image/png": "[encoded data removed]",
      "text/plain": [
       "<Figure size 720x576 with 1 Axes>"
      ]
     },
     "metadata": {
      "needs_background": "light"
     },
     "output_type": "display_data"
    }
   ],
   "source": [
    "# create the plot\n",
    "fig, ax = plt.subplots(figsize=(10, 8))\n",
    "\n",
    "# create the base for the mosiac plot as a stacked histogram\n",
    "ax = sns.histplot(data=grouped_tests, \n",
    "                  x=\"source\", \n",
    "                  weights=\"percent\", \n",
    "                  hue=\"num_tests_passed\", \n",
    "                  multiple=\"stack\", \n",
    "                  palette=\"OrRd\", # using a colorbrewer palette\n",
    "                  linewidth=2, \n",
    "                  edgecolor=\"#363636\")\n",
    "\n",
    "# set the labels\n",
    "ax.set_ylim(0, 100),\n",
    "ax.set_xlim(0, 5)\n",
    "ax.set_xlabel(\"\")\n",
    "ax.set_ylabel(\"\")\n",
    "ax.set_yticks([])\n",
    "ax.set_xticks(tick_positions)\n",
    "ax.set_xticklabels([\"Bard\", \"GPT3.5\", \"Bing\", \"GPT4\", \"Human\"])\n",
    "ax.spines[\"left\"].set_linewidth(2)\n",
    "ax.spines[\"top\"].set_linewidth(2)\n",
    "ax.set_title(\"% of solutions from each source with each number of tests passed\", pad=10)\n",
    "\n",
    "# adjust the width of each bar to correspond to the sample sizes\n",
    "for rect in ax.patches:\n",
    "    current_width = rect.get_width()\n",
    "    current_height = np.round(rect.get_height(), 5)\n",
    "    if current_width != 0 and current_height != 0:\n",
    "        rect.set_width(ax.get_xlim()[1] * source_to_sample_size[percent_to_source[current_height]])\n",
    "        rect.set_x(source_to_position[percent_to_source[current_height]])\n",
    "\n",
    "# set percentage labels in the center of each bar\n",
    "for container in ax.containers:\n",
    "    labels = [f\"{int(np.floor(value.get_height() + 0.5))}%\" if value.get_height() > 2 else \"\" for value in container]\n",
    "    ax.bar_label(container, \n",
    "                 labels=labels, \n",
    "                 label_type='center', \n",
    "                 size=13.5)\n",
    "ax.text(3.6, 1,  \"2%\")\n",
    "\n",
    "# create the legend\n",
    "legend = ax.get_legend()\n",
    "legend.set_title(\"  Number of\\ntests passed\\n   (out of 4)\")\n",
    "legend.get_frame().set_alpha(0.3)\n",
    "\n",
    "# save the plot\n",
    "plt.savefig(\"plots/tests_mosaic.png\", \n",
    "            dpi=300,\n",
    "            bbox_inches=\"tight\",\n",
    "            facecolor=\"white\")\n",
    "\n",
    "# # modifying the plot for the report\n",
    "# ax.set_title(\"\")\n",
    "\n",
    "# # saving the plot for the report\n",
    "# plt.savefig(\"report_plots/tests_mosaic.png\", \n",
    "#             dpi=300,\n",
    "#             bbox_inches=\"tight\",\n",
    "#             facecolor=\"white\")"
   ]
  }
 ],
 "metadata": {
  "kernelspec": {
   "display_name": "Python 3 (ipykernel)",
   "language": "python",
   "name": "python3"
  },
  "language_info": {
   "codemirror_mode": {
    "name": "ipython",
    "version": 3
   },
   "file_extension": ".py",
   "mimetype": "text/x-python",
   "name": "python",
   "nbconvert_exporter": "python",
   "pygments_lexer": "ipython3",
   "version": "3.9.12"
  }
 },
 "nbformat": 4,
 "nbformat_minor": 5
}
